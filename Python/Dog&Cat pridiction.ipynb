{
 "cells": [
  {
   "cell_type": "code",
   "execution_count": 20,
   "metadata": {},
   "outputs": [],
   "source": [
    "from keras.preprocessing.image import ImageDataGenerator\n",
    "from keras.models import Sequential\n",
    "from keras.layers import Conv2D, MaxPooling2D\n",
    "from keras.layers import Activation, Dropout, Flatten, Dense\n",
    "from keras import backend as K\n",
    "import numpy as np\n",
    "from keras.preprocessing import image"
   ]
  },
  {
   "cell_type": "code",
   "execution_count": 21,
   "metadata": {},
   "outputs": [],
   "source": [
    "img_width, img_height=150, 150"
   ]
  },
  {
   "cell_type": "code",
   "execution_count": 31,
   "metadata": {},
   "outputs": [],
   "source": [
    "train_data_dir='E:/Datasets/ImageClassificationbetweenCataANDdog-master/dataset/test_set'\n",
    "validation_data_dir='E:/Datasets/ImageClassificationbetweenCataANDdog-master/dataset/training_set'\n",
    "nb_train_sample=2000\n",
    "nb_validation_sample=100\n",
    "epochs=50\n",
    "batch_size=20"
   ]
  },
  {
   "cell_type": "code",
   "execution_count": 7,
   "metadata": {},
   "outputs": [],
   "source": [
    "if K.image_data_format() == 'channels_first':\n",
    "    input_shape=(3, img_width, img_height)\n",
    "else:\n",
    "    input_shape=(img_width, img_height, 3)\n",
    "    \n",
    "train_datagen=ImageDataGenerator(\n",
    "    rescale=1. / 255,\n",
    "    shear_range=0.2,\n",
    "    zoom_range=0.2,\n",
    "    horizontal_flip=True)"
   ]
  },
  {
   "cell_type": "code",
   "execution_count": 8,
   "metadata": {},
   "outputs": [
    {
     "name": "stdout",
     "output_type": "stream",
     "text": [
      "Found 2000 images belonging to 2 classes.\n"
     ]
    }
   ],
   "source": [
    "test_datagen=ImageDataGenerator(rescale=1. / 255)\n",
    "train_generator=train_datagen.flow_from_directory(\n",
    "    train_data_dir,\n",
    "    target_size=(img_width, img_height),\n",
    "    batch_size=batch_size,\n",
    "    class_mode='binary')"
   ]
  },
  {
   "cell_type": "code",
   "execution_count": 9,
   "metadata": {},
   "outputs": [
    {
     "name": "stdout",
     "output_type": "stream",
     "text": [
      "Found 8000 images belonging to 2 classes.\n"
     ]
    }
   ],
   "source": [
    "validation_generator=test_datagen.flow_from_directory(\n",
    "    validation_data_dir,\n",
    "    target_size=(img_width, img_height),\n",
    "    batch_size=batch_size,\n",
    "    class_mode='binary')"
   ]
  },
  {
   "cell_type": "code",
   "execution_count": 12,
   "metadata": {},
   "outputs": [],
   "source": [
    "model1=Sequential()\n",
    "model1.add(Conv2D(32, (3, 3), input_shape=input_shape))\n",
    "model1.add(Activation('relu'))\n",
    "model1.add(MaxPooling2D(pool_size=(2,2)))"
   ]
  },
  {
   "cell_type": "code",
   "execution_count": 13,
   "metadata": {},
   "outputs": [
    {
     "name": "stdout",
     "output_type": "stream",
     "text": [
      "_________________________________________________________________\n",
      "Layer (type)                 Output Shape              Param #   \n",
      "=================================================================\n",
      "conv2d_2 (Conv2D)            (None, 148, 148, 32)      896       \n",
      "_________________________________________________________________\n",
      "activation_2 (Activation)    (None, 148, 148, 32)      0         \n",
      "_________________________________________________________________\n",
      "max_pooling2d_2 (MaxPooling2 (None, 74, 74, 32)        0         \n",
      "=================================================================\n",
      "Total params: 896\n",
      "Trainable params: 896\n",
      "Non-trainable params: 0\n",
      "_________________________________________________________________\n"
     ]
    }
   ],
   "source": [
    "model1.summary()"
   ]
  },
  {
   "cell_type": "code",
   "execution_count": 14,
   "metadata": {},
   "outputs": [],
   "source": [
    "model1=Sequential()\n",
    "model1.add(Conv2D(32, (3, 3), input_shape=input_shape))\n",
    "model1.add(Activation('relu'))\n",
    "model1.add(MaxPooling2D(pool_size=(2,2)))"
   ]
  },
  {
   "cell_type": "code",
   "execution_count": 25,
   "metadata": {},
   "outputs": [],
   "source": [
    "model1=Sequential()\n",
    "model1.add(Conv2D(64, (3, 3), input_shape=input_shape))\n",
    "model1.add(Activation('relu'))\n",
    "model1.add(MaxPooling2D(pool_size=(2,2)))"
   ]
  },
  {
   "cell_type": "code",
   "execution_count": 26,
   "metadata": {},
   "outputs": [],
   "source": [
    "model1.add(Flatten())\n",
    "model1.add(Dense(64))\n",
    "model1.add(Activation('relu'))\n",
    "model1.add(Dropout(0.5))\n",
    "model1.add (Dense(1))\n",
    "model1.add(Activation('sigmoid'))\n"
   ]
  },
  {
   "cell_type": "code",
   "execution_count": 27,
   "metadata": {},
   "outputs": [
    {
     "name": "stdout",
     "output_type": "stream",
     "text": [
      "_________________________________________________________________\n",
      "Layer (type)                 Output Shape              Param #   \n",
      "=================================================================\n",
      "conv2d_5 (Conv2D)            (None, 148, 148, 64)      1792      \n",
      "_________________________________________________________________\n",
      "activation_7 (Activation)    (None, 148, 148, 64)      0         \n",
      "_________________________________________________________________\n",
      "max_pooling2d_5 (MaxPooling2 (None, 74, 74, 64)        0         \n",
      "_________________________________________________________________\n",
      "flatten_6 (Flatten)          (None, 350464)            0         \n",
      "_________________________________________________________________\n",
      "dense_3 (Dense)              (None, 64)                22429760  \n",
      "_________________________________________________________________\n",
      "activation_8 (Activation)    (None, 64)                0         \n",
      "_________________________________________________________________\n",
      "dropout_2 (Dropout)          (None, 64)                0         \n",
      "_________________________________________________________________\n",
      "dense_4 (Dense)              (None, 1)                 65        \n",
      "_________________________________________________________________\n",
      "activation_9 (Activation)    (None, 1)                 0         \n",
      "=================================================================\n",
      "Total params: 22,431,617\n",
      "Trainable params: 22,431,617\n",
      "Non-trainable params: 0\n",
      "_________________________________________________________________\n"
     ]
    }
   ],
   "source": [
    "model1.summary()"
   ]
  },
  {
   "cell_type": "code",
   "execution_count": 28,
   "metadata": {},
   "outputs": [],
   "source": [
    "model1.compile(loss='binary_crossentropy',\n",
    "     optimizer ='rmsprop',\n",
    "    metrics=['accuracy'])\n"
   ]
  },
  {
   "cell_type": "code",
   "execution_count": 34,
   "metadata": {},
   "outputs": [
    {
     "name": "stdout",
     "output_type": "stream",
     "text": [
      "WARNING:tensorflow:From C:\\Users\\Sachin Jaiswal\\.conda\\envs\\tensorflow\\lib\\site-packages\\keras\\backend\\tensorflow_backend.py:986: The name tf.assign_add is deprecated. Please use tf.compat.v1.assign_add instead.\n",
      "\n",
      "WARNING:tensorflow:From C:\\Users\\Sachin Jaiswal\\.conda\\envs\\tensorflow\\lib\\site-packages\\keras\\backend\\tensorflow_backend.py:973: The name tf.assign is deprecated. Please use tf.compat.v1.assign instead.\n",
      "\n",
      "WARNING:tensorflow:From C:\\Users\\Sachin Jaiswal\\.conda\\envs\\tensorflow\\lib\\site-packages\\keras\\backend\\tensorflow_backend.py:2741: The name tf.Session is deprecated. Please use tf.compat.v1.Session instead.\n",
      "\n",
      "Epoch 1/50\n",
      "WARNING:tensorflow:From C:\\Users\\Sachin Jaiswal\\.conda\\envs\\tensorflow\\lib\\site-packages\\keras\\backend\\tensorflow_backend.py:174: The name tf.get_default_session is deprecated. Please use tf.compat.v1.get_default_session instead.\n",
      "\n",
      "WARNING:tensorflow:From C:\\Users\\Sachin Jaiswal\\.conda\\envs\\tensorflow\\lib\\site-packages\\keras\\backend\\tensorflow_backend.py:181: The name tf.ConfigProto is deprecated. Please use tf.compat.v1.ConfigProto instead.\n",
      "\n",
      "WARNING:tensorflow:From C:\\Users\\Sachin Jaiswal\\.conda\\envs\\tensorflow\\lib\\site-packages\\keras\\backend\\tensorflow_backend.py:190: The name tf.global_variables is deprecated. Please use tf.compat.v1.global_variables instead.\n",
      "\n",
      "WARNING:tensorflow:From C:\\Users\\Sachin Jaiswal\\.conda\\envs\\tensorflow\\lib\\site-packages\\keras\\backend\\tensorflow_backend.py:199: The name tf.is_variable_initialized is deprecated. Please use tf.compat.v1.is_variable_initialized instead.\n",
      "\n",
      "WARNING:tensorflow:From C:\\Users\\Sachin Jaiswal\\.conda\\envs\\tensorflow\\lib\\site-packages\\keras\\backend\\tensorflow_backend.py:206: The name tf.variables_initializer is deprecated. Please use tf.compat.v1.variables_initializer instead.\n",
      "\n",
      "100/100 [==============================] - 139s 1s/step - loss: 1.4617 - acc: 0.5500 - val_loss: 0.6534 - val_acc: 0.6000\n",
      "Epoch 2/50\n",
      "100/100 [==============================] - 123s 1s/step - loss: 0.6801 - acc: 0.6205 - val_loss: 0.6009 - val_acc: 0.6400\n",
      "Epoch 3/50\n",
      "100/100 [==============================] - 119s 1s/step - loss: 0.6403 - acc: 0.6515 - val_loss: 0.6362 - val_acc: 0.7700\n",
      "Epoch 4/50\n",
      "100/100 [==============================] - 118s 1s/step - loss: 0.6379 - acc: 0.6690 - val_loss: 0.5776 - val_acc: 0.7200\n",
      "Epoch 5/50\n",
      "100/100 [==============================] - 116s 1s/step - loss: 0.6113 - acc: 0.6855 - val_loss: 0.6257 - val_acc: 0.6700\n",
      "Epoch 6/50\n",
      "100/100 [==============================] - 116s 1s/step - loss: 0.6137 - acc: 0.6840 - val_loss: 0.5411 - val_acc: 0.7000\n",
      "Epoch 7/50\n",
      "100/100 [==============================] - 118s 1s/step - loss: 0.5968 - acc: 0.7040 - val_loss: 0.5959 - val_acc: 0.6900\n",
      "Epoch 8/50\n",
      "100/100 [==============================] - 116s 1s/step - loss: 0.5751 - acc: 0.7210 - val_loss: 0.8335 - val_acc: 0.6700\n",
      "Epoch 9/50\n",
      "100/100 [==============================] - 119s 1s/step - loss: 0.5848 - acc: 0.7235 - val_loss: 0.7496 - val_acc: 0.6100\n",
      "Epoch 10/50\n",
      "100/100 [==============================] - 116s 1s/step - loss: 0.5666 - acc: 0.7190 - val_loss: 0.6554 - val_acc: 0.6600\n",
      "Epoch 11/50\n",
      "100/100 [==============================] - 114s 1s/step - loss: 0.5633 - acc: 0.7215 - val_loss: 0.7568 - val_acc: 0.6700\n",
      "Epoch 12/50\n",
      "100/100 [==============================] - 115s 1s/step - loss: 0.5561 - acc: 0.7190 - val_loss: 0.5079 - val_acc: 0.7400\n",
      "Epoch 13/50\n",
      "100/100 [==============================] - 116s 1s/step - loss: 0.5595 - acc: 0.7370 - val_loss: 0.8835 - val_acc: 0.6900\n",
      "Epoch 14/50\n",
      "100/100 [==============================] - 117s 1s/step - loss: 0.5546 - acc: 0.7410 - val_loss: 0.5511 - val_acc: 0.7500\n",
      "Epoch 15/50\n",
      "100/100 [==============================] - 116s 1s/step - loss: 0.5404 - acc: 0.7435 - val_loss: 0.6533 - val_acc: 0.7400\n",
      "Epoch 16/50\n",
      "100/100 [==============================] - 116s 1s/step - loss: 0.5422 - acc: 0.7350 - val_loss: 0.6660 - val_acc: 0.7600\n",
      "Epoch 17/50\n",
      "100/100 [==============================] - 117s 1s/step - loss: 0.5241 - acc: 0.7645 - val_loss: 0.7502 - val_acc: 0.7200\n",
      "Epoch 18/50\n",
      "100/100 [==============================] - 117s 1s/step - loss: 0.5264 - acc: 0.7525 - val_loss: 0.5842 - val_acc: 0.7400\n",
      "Epoch 19/50\n",
      "100/100 [==============================] - 117s 1s/step - loss: 0.5407 - acc: 0.7440 - val_loss: 0.6791 - val_acc: 0.7100\n",
      "Epoch 20/50\n",
      "100/100 [==============================] - 116s 1s/step - loss: 0.5285 - acc: 0.7615 - val_loss: 0.6871 - val_acc: 0.7500\n",
      "Epoch 21/50\n",
      "100/100 [==============================] - 117s 1s/step - loss: 0.5237 - acc: 0.7545 - val_loss: 0.6477 - val_acc: 0.7500\n",
      "Epoch 22/50\n",
      "100/100 [==============================] - 108s 1s/step - loss: 0.5120 - acc: 0.7515 - val_loss: 0.5873 - val_acc: 0.6800\n",
      "Epoch 23/50\n",
      "100/100 [==============================] - 102s 1s/step - loss: 0.5384 - acc: 0.7575 - val_loss: 1.0226 - val_acc: 0.6600\n",
      "Epoch 24/50\n",
      "100/100 [==============================] - 97s 973ms/step - loss: 0.5252 - acc: 0.7610 - val_loss: 0.6308 - val_acc: 0.7000\n",
      "Epoch 25/50\n",
      "100/100 [==============================] - 97s 966ms/step - loss: 0.5149 - acc: 0.7630 - val_loss: 0.5774 - val_acc: 0.7200\n",
      "Epoch 26/50\n",
      "100/100 [==============================] - 96s 961ms/step - loss: 0.5429 - acc: 0.7475 - val_loss: 0.6746 - val_acc: 0.7100\n",
      "Epoch 27/50\n",
      "100/100 [==============================] - 96s 958ms/step - loss: 0.4917 - acc: 0.7705 - val_loss: 0.6276 - val_acc: 0.7700\n",
      "Epoch 28/50\n",
      "100/100 [==============================] - 96s 957ms/step - loss: 0.5046 - acc: 0.7775 - val_loss: 0.8092 - val_acc: 0.7200\n",
      "Epoch 29/50\n",
      "100/100 [==============================] - 95s 955ms/step - loss: 0.4919 - acc: 0.7655 - val_loss: 0.6157 - val_acc: 0.8300\n",
      "Epoch 30/50\n",
      "100/100 [==============================] - 97s 972ms/step - loss: 0.5054 - acc: 0.7675 - val_loss: 0.5574 - val_acc: 0.7500\n",
      "Epoch 31/50\n",
      "100/100 [==============================] - 96s 958ms/step - loss: 0.4861 - acc: 0.7745 - val_loss: 0.5669 - val_acc: 0.7700\n",
      "Epoch 32/50\n",
      "100/100 [==============================] - 96s 959ms/step - loss: 0.4693 - acc: 0.7900 - val_loss: 0.7589 - val_acc: 0.6900\n",
      "Epoch 33/50\n",
      "100/100 [==============================] - 99s 987ms/step - loss: 0.4980 - acc: 0.7760 - val_loss: 0.6514 - val_acc: 0.6800\n",
      "Epoch 34/50\n",
      "100/100 [==============================] - 96s 958ms/step - loss: 0.4924 - acc: 0.7750 - val_loss: 0.7699 - val_acc: 0.6600\n",
      "Epoch 35/50\n",
      "100/100 [==============================] - 97s 974ms/step - loss: 0.4918 - acc: 0.7715 - val_loss: 0.6905 - val_acc: 0.7100\n",
      "Epoch 36/50\n",
      "100/100 [==============================] - 95s 954ms/step - loss: 0.5081 - acc: 0.7780 - val_loss: 0.9202 - val_acc: 0.6100\n",
      "Epoch 37/50\n",
      "100/100 [==============================] - 96s 955ms/step - loss: 0.4805 - acc: 0.7850 - val_loss: 0.7692 - val_acc: 0.6900\n",
      "Epoch 38/50\n",
      "100/100 [==============================] - 96s 958ms/step - loss: 0.4868 - acc: 0.7835 - val_loss: 0.6908 - val_acc: 0.6800\n",
      "Epoch 39/50\n",
      "100/100 [==============================] - 104s 1s/step - loss: 0.4878 - acc: 0.7830 - val_loss: 0.6255 - val_acc: 0.7400\n",
      "Epoch 40/50\n",
      "100/100 [==============================] - 99s 991ms/step - loss: 0.4917 - acc: 0.7790 - val_loss: 0.5141 - val_acc: 0.7600\n",
      "Epoch 41/50\n",
      "100/100 [==============================] - 99s 989ms/step - loss: 0.4777 - acc: 0.7970 - val_loss: 0.6083 - val_acc: 0.7600\n",
      "Epoch 42/50\n",
      "100/100 [==============================] - 97s 974ms/step - loss: 0.4611 - acc: 0.7975 - val_loss: 0.5434 - val_acc: 0.7900\n",
      "Epoch 43/50\n",
      "100/100 [==============================] - 98s 979ms/step - loss: 0.4829 - acc: 0.7895 - val_loss: 0.7442 - val_acc: 0.7300\n",
      "Epoch 44/50\n",
      "100/100 [==============================] - 97s 969ms/step - loss: 0.4823 - acc: 0.7925 - val_loss: 0.6645 - val_acc: 0.7700\n",
      "Epoch 45/50\n",
      "100/100 [==============================] - 97s 968ms/step - loss: 0.4673 - acc: 0.8015 - val_loss: 0.7138 - val_acc: 0.7600\n",
      "Epoch 46/50\n",
      "100/100 [==============================] - 98s 976ms/step - loss: 0.4676 - acc: 0.7935 - val_loss: 0.6063 - val_acc: 0.7200\n",
      "Epoch 47/50\n",
      "100/100 [==============================] - 97s 968ms/step - loss: 0.4606 - acc: 0.7995 - val_loss: 0.7412 - val_acc: 0.7500\n",
      "Epoch 48/50\n",
      "100/100 [==============================] - 96s 958ms/step - loss: 0.4769 - acc: 0.7880 - val_loss: 0.4653 - val_acc: 0.8400\n",
      "Epoch 49/50\n",
      "100/100 [==============================] - 96s 956ms/step - loss: 0.4726 - acc: 0.7950 - val_loss: 1.0078 - val_acc: 0.6400\n",
      "Epoch 50/50\n",
      "100/100 [==============================] - 95s 954ms/step - loss: 0.4549 - acc: 0.8140 - val_loss: 0.8664 - val_acc: 0.7100\n"
     ]
    },
    {
     "data": {
      "text/plain": [
       "<keras.callbacks.History at 0x216eb990748>"
      ]
     },
     "execution_count": 34,
     "metadata": {},
     "output_type": "execute_result"
    }
   ],
   "source": [
    "model1.fit_generator(\n",
    "train_generator,\n",
    "steps_per_epoch=nb_train_sample // batch_size,\n",
    "epochs =epochs,\n",
    "validation_data= validation_generator,\n",
    "validation_steps =nb_validation_sample // batch_size)\n"
   ]
  },
  {
   "cell_type": "code",
   "execution_count": 36,
   "metadata": {},
   "outputs": [
    {
     "data": {
      "text/plain": [
       "(None,)"
      ]
     },
     "execution_count": 36,
     "metadata": {},
     "output_type": "execute_result"
    }
   ],
   "source": [
    "model1.save_weights('first_try.h5'),\n"
   ]
  },
  {
   "cell_type": "code",
   "execution_count": 38,
   "metadata": {},
   "outputs": [],
   "source": [
    "img_pred = image.load_img('E:/Datasets/ImageClassificationbetweenCataANDdog-master/dataset/training_set/dogs/dog.4.jpg ', target_size = (150, 150))  #give the path of image for validation \n",
    "image_pred = image. img_to_array(img_pred)\n",
    "img_pred = np.expand_dims( img_pred, axis =0 )"
   ]
  },
  {
   "cell_type": "code",
   "execution_count": 40,
   "metadata": {},
   "outputs": [
    {
     "name": "stdout",
     "output_type": "stream",
     "text": [
      "[[1.]]\n",
      "dog\n"
     ]
    }
   ],
   "source": [
    "result=model1.predict(img_pred)\n",
    "print (result)\n",
    "if result[0][0] == 1:\n",
    "\tprediction = \"dog\"\n",
    "else:\n",
    "\tprediction = \"cat\"\n",
    "\n",
    "print (prediction)"
   ]
  },
  {
   "cell_type": "code",
   "execution_count": null,
   "metadata": {},
   "outputs": [],
   "source": []
  }
 ],
 "metadata": {
  "kernelspec": {
   "display_name": "Python 3",
   "language": "python",
   "name": "python3"
  },
  "language_info": {
   "codemirror_mode": {
    "name": "ipython",
    "version": 3
   },
   "file_extension": ".py",
   "mimetype": "text/x-python",
   "name": "python",
   "nbconvert_exporter": "python",
   "pygments_lexer": "ipython3",
   "version": "3.7.6"
  }
 },
 "nbformat": 4,
 "nbformat_minor": 4
}
